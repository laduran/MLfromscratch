{
 "cells": [
  {
   "cell_type": "markdown",
   "metadata": {},
   "source": [
    "Here I do some basic math (linear algebra, calculus) to get comfortable with Numpy"
   ]
  },
  {
   "cell_type": "code",
   "execution_count": 2,
   "metadata": {},
   "outputs": [
    {
     "name": "stdout",
     "output_type": "stream",
     "text": [
      "[[3 0]\n",
      " [1 2]]\n",
      "[2. 3.]\n",
      "[[0.         0.70710678]\n",
      " [1.         0.70710678]]\n"
     ]
    }
   ],
   "source": [
    "import numpy as np\n",
    "import math as math\n",
    "\n",
    "A = np.array([[3, 0], [1, 2]])\n",
    "print(A)\n",
    "eigenvalues, eigenvectors = np.linalg.eig(A)\n",
    "\n",
    "print(eigenvalues)\n",
    "print(eigenvectors)\n"
   ]
  },
  {
   "cell_type": "markdown",
   "metadata": {},
   "source": [
    "Now consider a matrix:\n",
    "\n",
    "$$\n",
    "A=\n",
    "\\begin{bmatrix}\n",
    "1 & 2\\cr\n",
    "4 & 3\n",
    "\\end{bmatrix}\n",
    "$$\n",
    "\n",
    "Compute the eigenvalues for A:\n",
    "\n",
    "Since eigenvalues λ exist where:\n",
    "\n",
    "$ det (A-λI) = 0$  or equivalently  $det (λI - A) = 0 $\n",
    "\n",
    "\n",
    "\n",
    "$$\n",
    "det(\\begin{bmatrix}\n",
    "λ-1 & -2\\cr\n",
    "-4 & λ-3\n",
    "\\end{bmatrix}) = 0\n",
    "$$\n",
    "\n",
    "\n",
    "From the definition for det(A) we have:\n",
    "$$\n",
    "\\begin{align*}\n",
    "(λ-1)(λ-3) - 8\\\\\n",
    "λ^2 - 3λ - λ + 3 - 8\\\\\n",
    "λ^2 - 4λ - 5\\\\\n",
    "(λ-5)(λ+1) = 0\n",
    "\\end{align*}\n",
    "$$\n",
    "Therefore the eigenvalues for this matrix are:\n",
    "\\begin{align*}\n",
    "λ = 5, -1\n",
    "\\end{align*}\n",
    "The eigenvectors of this matrix should be:\n",
    "\n",
    "$$\n",
    "\\vec{v}_1 = \n",
    "\\begin{bmatrix}\n",
    "1/2\\cr 1\n",
    "\\end{bmatrix}\n",
    "\n",
    "\\vec{v}_2 = \n",
    "\\begin{bmatrix}\n",
    "1\\cr-1\n",
    "\\end{bmatrix}\n",
    "$$\n"
   ]
  },
  {
   "cell_type": "code",
   "execution_count": 3,
   "metadata": {},
   "outputs": [
    {
     "name": "stdout",
     "output_type": "stream",
     "text": [
      "[-1.  5.]\n",
      "Note the eigenvectors are the span of that vector, so 1/2, 1 is the same as 2, 4\n",
      "[[-0.70710678 -0.4472136 ]\n",
      " [ 0.70710678 -0.89442719]]\n",
      "[-0.61803399  1.61803399]\n",
      "[[-0.85065081 -0.52573111]\n",
      " [ 0.52573111 -0.85065081]]\n"
     ]
    }
   ],
   "source": [
    "A = np.array([[1, 2], [4, 3]])\n",
    "eigenvalues, eigenvectors = np.linalg.eig(A)\n",
    "\n",
    "print(eigenvalues)\n",
    "print(\"Note the eigenvectors are the span of that vector, so 1/2, 1 is the same as 2, 4\")\n",
    "print(eigenvectors)\n",
    "\n",
    "B = np.array([[0, 1], [1, 1]])\n",
    "eigenvalues, eigenvectors = np.linalg.eig(B)\n",
    "\n",
    "print(eigenvalues)\n",
    "print(eigenvectors)\n",
    "\n"
   ]
  }
 ],
 "metadata": {
  "kernelspec": {
   "display_name": "Python 3",
   "language": "python",
   "name": "python3"
  },
  "language_info": {
   "codemirror_mode": {
    "name": "ipython",
    "version": 3
   },
   "file_extension": ".py",
   "mimetype": "text/x-python",
   "name": "python",
   "nbconvert_exporter": "python",
   "pygments_lexer": "ipython3",
   "version": "3.11.9"
  }
 },
 "nbformat": 4,
 "nbformat_minor": 2
}
